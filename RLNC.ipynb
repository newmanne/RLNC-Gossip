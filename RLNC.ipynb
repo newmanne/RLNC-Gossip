{
 "metadata": {
  "name": "",
  "signature": "sha256:3e0fa7dac409fa88deaaf0c0e22100ff9499159c1fb20d01c4fcf43e40b08ecb"
 },
 "nbformat": 3,
 "nbformat_minor": 0,
 "worksheets": [
  {
   "cells": [
    {
     "cell_type": "code",
     "collapsed": false,
     "input": [
      "import networkx as nx\n",
      "import numpy as np\n",
      "import scipy as sp\n",
      "from scipy import stats\n",
      "import matplotlib.pyplot as plt\n",
      "import random\n",
      "import collections\n",
      "from collections import defaultdict\n",
      "import json\n",
      "import pandas as pd\n",
      "import seaborn as sns\n",
      "sns.set(palette=\"Set2\")"
     ],
     "language": "python",
     "metadata": {},
     "outputs": [],
     "prompt_number": 67
    },
    {
     "cell_type": "code",
     "collapsed": false,
     "input": [
      "data = json.load(open('/home/newmanne/Downloads/sage-6.5-x86_64-Linux/results.txt'))"
     ],
     "language": "python",
     "metadata": {},
     "outputs": [],
     "prompt_number": 68
    },
    {
     "cell_type": "code",
     "collapsed": false,
     "input": [
      "num_messages = []\n",
      "stopping_rounds = []\n",
      "for config in data:\n",
      "    stopping_rounds_for_config = []\n",
      "    num_messages.append(config['configuration']['num_messages'])\n",
      "    for result in config['results']:\n",
      "        summary_info = result['summary']\n",
      "        stopping_round = summary_info['stopping_round']\n",
      "        stopping_rounds_for_config.append(stopping_round)\n",
      "    stopping_rounds.append(stopping_rounds_for_config)\n",
      "#         for node, info in result.items():\n",
      "#             stopping_round = info['stopping_round']\n",
      "#             stopping_rounds.append(stopping_round)\n",
      "#             extra_messages = info['extra_messages']\n",
      "#         collective_stopping_round = max(stopping_rounds)\n",
      "            \n"
     ],
     "language": "python",
     "metadata": {},
     "outputs": [],
     "prompt_number": 69
    },
    {
     "cell_type": "code",
     "collapsed": false,
     "input": [
      "# mean_stopping_rounds = map(lambda x: x[2], stopping_rounds)\n",
      "# print mean_stopping_rounds\n",
      "# plt.scatter(num_messages, mean_stopping_rounds)\n",
      "print zip(*stopping_rounds)\n",
      "sns.tsplot(zip(*stopping_rounds), time=num_messages, err_style=\"unit_points\")\n",
      "# sns.tsplot(zip(*stopping_rounds), time=num_messages)\n",
      "plt.ylabel(\"Stopping Time\")\n",
      "plt.xlabel(\"Number of Messages\")\n",
      "plt.xlim([0, 70])\n",
      "plt.ylim([0, 100])"
     ],
     "language": "python",
     "metadata": {},
     "outputs": [
      {
       "output_type": "stream",
       "stream": "stdout",
       "text": [
        "[(25, 38, 52, 65, 76, 90), (24, 38, 53, 67, 78, 92), (26, 43, 54, 69, 84, 93), (25, 40, 54, 69, 84, 93), (28, 44, 53, 70, 85, 92)]\n"
       ]
      },
      {
       "metadata": {},
       "output_type": "pyout",
       "prompt_number": 73,
       "text": [
        "(0, 100)"
       ]
      },
      {
       "metadata": {},
       "output_type": "display_data",
       "png": "[encoded data removed]",
       "text": [
        "<matplotlib.figure.Figure at 0x7f8afa9c5c50>"
       ]
      }
     ],
     "prompt_number": 73
    },
    {
     "cell_type": "code",
     "collapsed": false,
     "input": [
      "x = sorted(data)\n",
      "y = np.array(range(1,len(x)+1))/float(len(x))"
     ],
     "language": "python",
     "metadata": {},
     "outputs": []
    },
    {
     "cell_type": "code",
     "collapsed": false,
     "input": [],
     "language": "python",
     "metadata": {},
     "outputs": []
    }
   ],
   "metadata": {}
  }
 ]
}